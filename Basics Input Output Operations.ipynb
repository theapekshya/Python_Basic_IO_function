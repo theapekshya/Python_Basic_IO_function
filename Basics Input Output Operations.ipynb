{
 "cells": [
  {
   "cell_type": "code",
   "execution_count": 1,
   "id": "264930ca",
   "metadata": {},
   "outputs": [
    {
     "name": "stdout",
     "output_type": "stream",
     "text": [
      "1\n",
      "1\n"
     ]
    }
   ],
   "source": [
    "# Basics I/O operation\n",
    "# Input function\n",
    "\n",
    "a = input()     # give value in output\n",
    "print(a)"
   ]
  },
  {
   "cell_type": "code",
   "execution_count": 39,
   "id": "764660bb",
   "metadata": {},
   "outputs": [
    {
     "name": "stdout",
     "output_type": "stream",
     "text": [
      "Enter Name = ram\n",
      "ram\n",
      "<class 'str'>\n"
     ]
    }
   ],
   "source": [
    "a = input(\"Enter Name = \")\n",
    "print(a)\n",
    "print(type(a))"
   ]
  },
  {
   "cell_type": "code",
   "execution_count": 8,
   "id": "8164ec0a",
   "metadata": {},
   "outputs": [
    {
     "name": "stdout",
     "output_type": "stream",
     "text": [
      "Enter a=2\n",
      "Enter b=4\n",
      "6\n",
      "<class 'int'>\n"
     ]
    }
   ],
   "source": [
    "# input function function with datatype\n",
    "\n",
    "a = int(input(\"Enter a=\"))   #integer value\n",
    "b = int(input(\"Enter b=\"))\n",
    "c = a+b\n",
    "print(c)\n",
    "print(type(c))"
   ]
  },
  {
   "cell_type": "code",
   "execution_count": 10,
   "id": "25407ab3",
   "metadata": {},
   "outputs": [
    {
     "name": "stdout",
     "output_type": "stream",
     "text": [
      "10\n"
     ]
    }
   ],
   "source": [
    "# type casting(to convert one form into another)\n",
    "# int() Float()  str() bool()\n",
    "\n",
    "a = 10\n",
    "b = str(a)     # int to str\n",
    "print(b)"
   ]
  },
  {
   "cell_type": "code",
   "execution_count": 11,
   "id": "9d40b713",
   "metadata": {},
   "outputs": [
    {
     "name": "stdout",
     "output_type": "stream",
     "text": [
      "10.0\n"
     ]
    }
   ],
   "source": [
    "a = '10'\n",
    "b = float(a)  #str to float\n",
    "print(b)"
   ]
  },
  {
   "cell_type": "code",
   "execution_count": 14,
   "id": "e9ec9c5c",
   "metadata": {},
   "outputs": [
    {
     "name": "stdout",
     "output_type": "stream",
     "text": [
      "True\n",
      "False\n"
     ]
    }
   ],
   "source": [
    "a = 2\n",
    "b = 0\n",
    "c = bool(a)\n",
    "d = bool(b)\n",
    "print(c)\n",
    "print(d)"
   ]
  },
  {
   "cell_type": "code",
   "execution_count": 20,
   "id": "7e211799",
   "metadata": {},
   "outputs": [
    {
     "name": "stdout",
     "output_type": "stream",
     "text": [
      "Enter P =111\n",
      "Enter T =2\n",
      "Enter R =10\n",
      "Interest = 22.2\n"
     ]
    }
   ],
   "source": [
    "# wap to calculate simple interest\n",
    "\n",
    "a = float(input(\"Enter P =\"))\n",
    "b = float(input(\"Enter T =\"))\n",
    "c = float(input(\"Enter R =\"))\n",
    "I = P*T*R/100\n",
    "print('Interest =',I)"
   ]
  },
  {
   "cell_type": "code",
   "execution_count": 23,
   "id": "41ab7de0",
   "metadata": {},
   "outputs": [],
   "source": [
    "#a = 'my'\n",
    "#b = 10\n",
    "#c = a+b     # error cannot concatinate str and int\n",
    "#print(c)"
   ]
  },
  {
   "cell_type": "code",
   "execution_count": 28,
   "id": "63db5ca9",
   "metadata": {},
   "outputs": [
    {
     "name": "stdout",
     "output_type": "stream",
     "text": [
      "hey 10\n"
     ]
    }
   ],
   "source": [
    "a = 'hey '\n",
    "b = 10\n",
    "c = str(b)\n",
    "d = a + c   # int to str and concatinatae\n",
    "print(d)"
   ]
  },
  {
   "cell_type": "code",
   "execution_count": 36,
   "id": "720a2700",
   "metadata": {},
   "outputs": [
    {
     "name": "stdout",
     "output_type": "stream",
     "text": [
      "Enter Name = appu\n",
      "Enter Age = 11\n",
      "Enter Address = jhapa\n",
      "Hello I am appuI am 11years old i live in jhapa\n"
     ]
    }
   ],
   "source": [
    "Name = input('Enter Name = ')\n",
    "Age = int(input('Enter Age = '))\n",
    "Address = input('Enter Address = ')\n",
    "Info = 'Hello I am ' + Name  + 'I am ' +  str(Age)  + 'years old ' + 'i live in ' +  Address\n",
    "print(Info)"
   ]
  },
  {
   "cell_type": "code",
   "execution_count": 38,
   "id": "d09f4215",
   "metadata": {},
   "outputs": [
    {
     "name": "stdout",
     "output_type": "stream",
     "text": [
      "Enter phy marks = 56\n",
      "Enter chem marks = 55\n",
      "Enter math marks = 78\n",
      "Enter bio marks = 87\n",
      "Percentage =  69.0\n"
     ]
    }
   ],
   "source": [
    "# percentage of students\n",
    "\n",
    "a = int(input('Enter phy marks = '))\n",
    "b = int(input('Enter chem marks = '))\n",
    "c = int(input('Enter math marks = '))\n",
    "d = int(input('Enter bio marks = '))\n",
    "\n",
    "Total = a + b + c + d\n",
    "Percentage = Total/4\n",
    "\n",
    "print( 'Percentage = ',Percentage)"
   ]
  },
  {
   "cell_type": "code",
   "execution_count": null,
   "id": "e0b0b186",
   "metadata": {},
   "outputs": [],
   "source": []
  }
 ],
 "metadata": {
  "kernelspec": {
   "display_name": "Python 3 (ipykernel)",
   "language": "python",
   "name": "python3"
  },
  "language_info": {
   "codemirror_mode": {
    "name": "ipython",
    "version": 3
   },
   "file_extension": ".py",
   "mimetype": "text/x-python",
   "name": "python",
   "nbconvert_exporter": "python",
   "pygments_lexer": "ipython3",
   "version": "3.10.9"
  }
 },
 "nbformat": 4,
 "nbformat_minor": 5
}
